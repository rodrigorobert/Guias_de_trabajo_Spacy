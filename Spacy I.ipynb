{
 "cells": [
  {
   "cell_type": "code",
   "execution_count": 1,
   "id": "02fea3ba",
   "metadata": {},
   "outputs": [],
   "source": [
    "import spacy"
   ]
  },
  {
   "cell_type": "code",
   "execution_count": 2,
   "id": "788e7cf0",
   "metadata": {},
   "outputs": [],
   "source": [
    "# en una variable cargo el diccionario para poder usarlo,\n",
    "# lo que va entre parentesis es el nombre como aparecia en el pip\n",
    "\n",
    "pln = spacy.load('es_core_news_sm')"
   ]
  },
  {
   "cell_type": "code",
   "execution_count": 3,
   "id": "29aad3b3",
   "metadata": {},
   "outputs": [],
   "source": [
    "doc = pln('esto es una frase para probar el diccinario, ¿o no?')"
   ]
  },
  {
   "cell_type": "code",
   "execution_count": 4,
   "id": "b4ee5925",
   "metadata": {},
   "outputs": [
    {
     "name": "stdout",
     "output_type": "stream",
     "text": [
      "esto\n",
      "es\n",
      "una\n",
      "frase\n",
      "para\n",
      "probar\n",
      "el\n",
      "diccinario\n",
      ",\n",
      "¿\n",
      "o\n",
      "no\n",
      "?\n"
     ]
    }
   ],
   "source": [
    "for i in doc:\n",
    "    print(i)"
   ]
  },
  {
   "cell_type": "code",
   "execution_count": 5,
   "id": "21f6183c",
   "metadata": {},
   "outputs": [
    {
     "name": "stdout",
     "output_type": "stream",
     "text": [
      "esto PRON\n",
      "es AUX\n",
      "una DET\n",
      "frase NOUN\n",
      "para ADP\n",
      "probar VERB\n",
      "el DET\n",
      "diccinario NOUN\n",
      ", PUNCT\n",
      "¿ PUNCT\n",
      "o CCONJ\n",
      "no ADV\n",
      "? PUNCT\n"
     ]
    }
   ],
   "source": [
    "#analisis de cada palabra\n",
    "\n",
    "for i in doc:\n",
    "    print(i, i.pos_)"
   ]
  },
  {
   "cell_type": "code",
   "execution_count": 6,
   "id": "273cde9e",
   "metadata": {},
   "outputs": [
    {
     "name": "stdout",
     "output_type": "stream",
     "text": [
      "Oracion uno, prueba.\n",
      "Oración dos.\n",
      "Oración tres\n"
     ]
    }
   ],
   "source": [
    "#para descomponer en oraciones SENTS --> TOKENIZAR!!!\n",
    "\n",
    "frases = pln('Oracion uno, prueba. Oración dos. Oración tres')\n",
    "\n",
    "for oracion in frases.sents:\n",
    "    print(oracion)\n",
    "    "
   ]
  },
  {
   "cell_type": "code",
   "execution_count": 7,
   "id": "9c5385ef",
   "metadata": {},
   "outputs": [
    {
     "name": "stdout",
     "output_type": "stream",
     "text": [
      "Todas las familias felices\n",
      "unas\n",
      "otras\n",
      "cada familia infeliz\n"
     ]
    }
   ],
   "source": [
    "#para encontrar sustantivos importantes... en trozos NOUN_CHUNKS\n",
    "\n",
    "txt1 = pln('Todas las familias felices se parecen unas a otras, pero cada familia infeliz lo es a su manera')\n",
    "\n",
    "for i in txt1.noun_chunks:\n",
    "    print(i)"
   ]
  },
  {
   "cell_type": "code",
   "execution_count": 8,
   "id": "01638ead",
   "metadata": {},
   "outputs": [
    {
     "data": {
      "text/html": [
       "<span class=\"tex2jax_ignore\"><svg xmlns=\"http://www.w3.org/2000/svg\" xmlns:xlink=\"http://www.w3.org/1999/xlink\" xml:lang=\"es\" id=\"69744a55764b436faf86774f26b683cf-0\" class=\"displacy\" width=\"1250\" height=\"337.0\" direction=\"ltr\" style=\"max-width: none; height: 337.0px; color: #000000; background: #ffffff; font-family: Arial; direction: ltr\">\n",
       "<text class=\"displacy-token\" fill=\"currentColor\" text-anchor=\"middle\" y=\"247.0\">\n",
       "    <tspan class=\"displacy-word\" fill=\"currentColor\" x=\"50\">yo</tspan>\n",
       "    <tspan class=\"displacy-tag\" dy=\"2em\" fill=\"currentColor\" x=\"50\">PRON</tspan>\n",
       "</text>\n",
       "\n",
       "<text class=\"displacy-token\" fill=\"currentColor\" text-anchor=\"middle\" y=\"247.0\">\n",
       "    <tspan class=\"displacy-word\" fill=\"currentColor\" x=\"150\">tengo</tspan>\n",
       "    <tspan class=\"displacy-tag\" dy=\"2em\" fill=\"currentColor\" x=\"150\">VERB</tspan>\n",
       "</text>\n",
       "\n",
       "<text class=\"displacy-token\" fill=\"currentColor\" text-anchor=\"middle\" y=\"247.0\">\n",
       "    <tspan class=\"displacy-word\" fill=\"currentColor\" x=\"250\">un</tspan>\n",
       "    <tspan class=\"displacy-tag\" dy=\"2em\" fill=\"currentColor\" x=\"250\">DET</tspan>\n",
       "</text>\n",
       "\n",
       "<text class=\"displacy-token\" fill=\"currentColor\" text-anchor=\"middle\" y=\"247.0\">\n",
       "    <tspan class=\"displacy-word\" fill=\"currentColor\" x=\"350\">hermano</tspan>\n",
       "    <tspan class=\"displacy-tag\" dy=\"2em\" fill=\"currentColor\" x=\"350\">NOUN</tspan>\n",
       "</text>\n",
       "\n",
       "<text class=\"displacy-token\" fill=\"currentColor\" text-anchor=\"middle\" y=\"247.0\">\n",
       "    <tspan class=\"displacy-word\" fill=\"currentColor\" x=\"450\">que</tspan>\n",
       "    <tspan class=\"displacy-tag\" dy=\"2em\" fill=\"currentColor\" x=\"450\">PRON</tspan>\n",
       "</text>\n",
       "\n",
       "<text class=\"displacy-token\" fill=\"currentColor\" text-anchor=\"middle\" y=\"247.0\">\n",
       "    <tspan class=\"displacy-word\" fill=\"currentColor\" x=\"550\">se</tspan>\n",
       "    <tspan class=\"displacy-tag\" dy=\"2em\" fill=\"currentColor\" x=\"550\">PRON</tspan>\n",
       "</text>\n",
       "\n",
       "<text class=\"displacy-token\" fill=\"currentColor\" text-anchor=\"middle\" y=\"247.0\">\n",
       "    <tspan class=\"displacy-word\" fill=\"currentColor\" x=\"650\">llama</tspan>\n",
       "    <tspan class=\"displacy-tag\" dy=\"2em\" fill=\"currentColor\" x=\"650\">VERB</tspan>\n",
       "</text>\n",
       "\n",
       "<text class=\"displacy-token\" fill=\"currentColor\" text-anchor=\"middle\" y=\"247.0\">\n",
       "    <tspan class=\"displacy-word\" fill=\"currentColor\" x=\"750\">Gabriel</tspan>\n",
       "    <tspan class=\"displacy-tag\" dy=\"2em\" fill=\"currentColor\" x=\"750\">PROPN</tspan>\n",
       "</text>\n",
       "\n",
       "<text class=\"displacy-token\" fill=\"currentColor\" text-anchor=\"middle\" y=\"247.0\">\n",
       "    <tspan class=\"displacy-word\" fill=\"currentColor\" x=\"850\">y</tspan>\n",
       "    <tspan class=\"displacy-tag\" dy=\"2em\" fill=\"currentColor\" x=\"850\">CCONJ</tspan>\n",
       "</text>\n",
       "\n",
       "<text class=\"displacy-token\" fill=\"currentColor\" text-anchor=\"middle\" y=\"247.0\">\n",
       "    <tspan class=\"displacy-word\" fill=\"currentColor\" x=\"950\">trabaja</tspan>\n",
       "    <tspan class=\"displacy-tag\" dy=\"2em\" fill=\"currentColor\" x=\"950\">VERB</tspan>\n",
       "</text>\n",
       "\n",
       "<text class=\"displacy-token\" fill=\"currentColor\" text-anchor=\"middle\" y=\"247.0\">\n",
       "    <tspan class=\"displacy-word\" fill=\"currentColor\" x=\"1050\">en</tspan>\n",
       "    <tspan class=\"displacy-tag\" dy=\"2em\" fill=\"currentColor\" x=\"1050\">ADP</tspan>\n",
       "</text>\n",
       "\n",
       "<text class=\"displacy-token\" fill=\"currentColor\" text-anchor=\"middle\" y=\"247.0\">\n",
       "    <tspan class=\"displacy-word\" fill=\"currentColor\" x=\"1150\">Google</tspan>\n",
       "    <tspan class=\"displacy-tag\" dy=\"2em\" fill=\"currentColor\" x=\"1150\">PROPN</tspan>\n",
       "</text>\n",
       "\n",
       "<g class=\"displacy-arrow\">\n",
       "    <path class=\"displacy-arc\" id=\"arrow-69744a55764b436faf86774f26b683cf-0-0\" stroke-width=\"2px\" d=\"M70,202.0 C70,152.0 135.0,152.0 135.0,202.0\" fill=\"none\" stroke=\"currentColor\"/>\n",
       "    <text dy=\"1.25em\" style=\"font-size: 0.8em; letter-spacing: 1px\">\n",
       "        <textPath xlink:href=\"#arrow-69744a55764b436faf86774f26b683cf-0-0\" class=\"displacy-label\" startOffset=\"50%\" side=\"left\" fill=\"currentColor\" text-anchor=\"middle\">nsubj</textPath>\n",
       "    </text>\n",
       "    <path class=\"displacy-arrowhead\" d=\"M70,204.0 L62,192.0 78,192.0\" fill=\"currentColor\"/>\n",
       "</g>\n",
       "\n",
       "<g class=\"displacy-arrow\">\n",
       "    <path class=\"displacy-arc\" id=\"arrow-69744a55764b436faf86774f26b683cf-0-1\" stroke-width=\"2px\" d=\"M270,202.0 C270,152.0 335.0,152.0 335.0,202.0\" fill=\"none\" stroke=\"currentColor\"/>\n",
       "    <text dy=\"1.25em\" style=\"font-size: 0.8em; letter-spacing: 1px\">\n",
       "        <textPath xlink:href=\"#arrow-69744a55764b436faf86774f26b683cf-0-1\" class=\"displacy-label\" startOffset=\"50%\" side=\"left\" fill=\"currentColor\" text-anchor=\"middle\">det</textPath>\n",
       "    </text>\n",
       "    <path class=\"displacy-arrowhead\" d=\"M270,204.0 L262,192.0 278,192.0\" fill=\"currentColor\"/>\n",
       "</g>\n",
       "\n",
       "<g class=\"displacy-arrow\">\n",
       "    <path class=\"displacy-arc\" id=\"arrow-69744a55764b436faf86774f26b683cf-0-2\" stroke-width=\"2px\" d=\"M170,202.0 C170,102.0 340.0,102.0 340.0,202.0\" fill=\"none\" stroke=\"currentColor\"/>\n",
       "    <text dy=\"1.25em\" style=\"font-size: 0.8em; letter-spacing: 1px\">\n",
       "        <textPath xlink:href=\"#arrow-69744a55764b436faf86774f26b683cf-0-2\" class=\"displacy-label\" startOffset=\"50%\" side=\"left\" fill=\"currentColor\" text-anchor=\"middle\">obj</textPath>\n",
       "    </text>\n",
       "    <path class=\"displacy-arrowhead\" d=\"M340.0,204.0 L348.0,192.0 332.0,192.0\" fill=\"currentColor\"/>\n",
       "</g>\n",
       "\n",
       "<g class=\"displacy-arrow\">\n",
       "    <path class=\"displacy-arc\" id=\"arrow-69744a55764b436faf86774f26b683cf-0-3\" stroke-width=\"2px\" d=\"M470,202.0 C470,102.0 640.0,102.0 640.0,202.0\" fill=\"none\" stroke=\"currentColor\"/>\n",
       "    <text dy=\"1.25em\" style=\"font-size: 0.8em; letter-spacing: 1px\">\n",
       "        <textPath xlink:href=\"#arrow-69744a55764b436faf86774f26b683cf-0-3\" class=\"displacy-label\" startOffset=\"50%\" side=\"left\" fill=\"currentColor\" text-anchor=\"middle\">nsubj</textPath>\n",
       "    </text>\n",
       "    <path class=\"displacy-arrowhead\" d=\"M470,204.0 L462,192.0 478,192.0\" fill=\"currentColor\"/>\n",
       "</g>\n",
       "\n",
       "<g class=\"displacy-arrow\">\n",
       "    <path class=\"displacy-arc\" id=\"arrow-69744a55764b436faf86774f26b683cf-0-4\" stroke-width=\"2px\" d=\"M570,202.0 C570,152.0 635.0,152.0 635.0,202.0\" fill=\"none\" stroke=\"currentColor\"/>\n",
       "    <text dy=\"1.25em\" style=\"font-size: 0.8em; letter-spacing: 1px\">\n",
       "        <textPath xlink:href=\"#arrow-69744a55764b436faf86774f26b683cf-0-4\" class=\"displacy-label\" startOffset=\"50%\" side=\"left\" fill=\"currentColor\" text-anchor=\"middle\">expl:pv</textPath>\n",
       "    </text>\n",
       "    <path class=\"displacy-arrowhead\" d=\"M570,204.0 L562,192.0 578,192.0\" fill=\"currentColor\"/>\n",
       "</g>\n",
       "\n",
       "<g class=\"displacy-arrow\">\n",
       "    <path class=\"displacy-arc\" id=\"arrow-69744a55764b436faf86774f26b683cf-0-5\" stroke-width=\"2px\" d=\"M370,202.0 C370,52.0 645.0,52.0 645.0,202.0\" fill=\"none\" stroke=\"currentColor\"/>\n",
       "    <text dy=\"1.25em\" style=\"font-size: 0.8em; letter-spacing: 1px\">\n",
       "        <textPath xlink:href=\"#arrow-69744a55764b436faf86774f26b683cf-0-5\" class=\"displacy-label\" startOffset=\"50%\" side=\"left\" fill=\"currentColor\" text-anchor=\"middle\">acl</textPath>\n",
       "    </text>\n",
       "    <path class=\"displacy-arrowhead\" d=\"M645.0,204.0 L653.0,192.0 637.0,192.0\" fill=\"currentColor\"/>\n",
       "</g>\n",
       "\n",
       "<g class=\"displacy-arrow\">\n",
       "    <path class=\"displacy-arc\" id=\"arrow-69744a55764b436faf86774f26b683cf-0-6\" stroke-width=\"2px\" d=\"M670,202.0 C670,152.0 735.0,152.0 735.0,202.0\" fill=\"none\" stroke=\"currentColor\"/>\n",
       "    <text dy=\"1.25em\" style=\"font-size: 0.8em; letter-spacing: 1px\">\n",
       "        <textPath xlink:href=\"#arrow-69744a55764b436faf86774f26b683cf-0-6\" class=\"displacy-label\" startOffset=\"50%\" side=\"left\" fill=\"currentColor\" text-anchor=\"middle\">obj</textPath>\n",
       "    </text>\n",
       "    <path class=\"displacy-arrowhead\" d=\"M735.0,204.0 L743.0,192.0 727.0,192.0\" fill=\"currentColor\"/>\n",
       "</g>\n",
       "\n",
       "<g class=\"displacy-arrow\">\n",
       "    <path class=\"displacy-arc\" id=\"arrow-69744a55764b436faf86774f26b683cf-0-7\" stroke-width=\"2px\" d=\"M870,202.0 C870,152.0 935.0,152.0 935.0,202.0\" fill=\"none\" stroke=\"currentColor\"/>\n",
       "    <text dy=\"1.25em\" style=\"font-size: 0.8em; letter-spacing: 1px\">\n",
       "        <textPath xlink:href=\"#arrow-69744a55764b436faf86774f26b683cf-0-7\" class=\"displacy-label\" startOffset=\"50%\" side=\"left\" fill=\"currentColor\" text-anchor=\"middle\">cc</textPath>\n",
       "    </text>\n",
       "    <path class=\"displacy-arrowhead\" d=\"M870,204.0 L862,192.0 878,192.0\" fill=\"currentColor\"/>\n",
       "</g>\n",
       "\n",
       "<g class=\"displacy-arrow\">\n",
       "    <path class=\"displacy-arc\" id=\"arrow-69744a55764b436faf86774f26b683cf-0-8\" stroke-width=\"2px\" d=\"M170,202.0 C170,2.0 950.0,2.0 950.0,202.0\" fill=\"none\" stroke=\"currentColor\"/>\n",
       "    <text dy=\"1.25em\" style=\"font-size: 0.8em; letter-spacing: 1px\">\n",
       "        <textPath xlink:href=\"#arrow-69744a55764b436faf86774f26b683cf-0-8\" class=\"displacy-label\" startOffset=\"50%\" side=\"left\" fill=\"currentColor\" text-anchor=\"middle\">conj</textPath>\n",
       "    </text>\n",
       "    <path class=\"displacy-arrowhead\" d=\"M950.0,204.0 L958.0,192.0 942.0,192.0\" fill=\"currentColor\"/>\n",
       "</g>\n",
       "\n",
       "<g class=\"displacy-arrow\">\n",
       "    <path class=\"displacy-arc\" id=\"arrow-69744a55764b436faf86774f26b683cf-0-9\" stroke-width=\"2px\" d=\"M1070,202.0 C1070,152.0 1135.0,152.0 1135.0,202.0\" fill=\"none\" stroke=\"currentColor\"/>\n",
       "    <text dy=\"1.25em\" style=\"font-size: 0.8em; letter-spacing: 1px\">\n",
       "        <textPath xlink:href=\"#arrow-69744a55764b436faf86774f26b683cf-0-9\" class=\"displacy-label\" startOffset=\"50%\" side=\"left\" fill=\"currentColor\" text-anchor=\"middle\">case</textPath>\n",
       "    </text>\n",
       "    <path class=\"displacy-arrowhead\" d=\"M1070,204.0 L1062,192.0 1078,192.0\" fill=\"currentColor\"/>\n",
       "</g>\n",
       "\n",
       "<g class=\"displacy-arrow\">\n",
       "    <path class=\"displacy-arc\" id=\"arrow-69744a55764b436faf86774f26b683cf-0-10\" stroke-width=\"2px\" d=\"M970,202.0 C970,102.0 1140.0,102.0 1140.0,202.0\" fill=\"none\" stroke=\"currentColor\"/>\n",
       "    <text dy=\"1.25em\" style=\"font-size: 0.8em; letter-spacing: 1px\">\n",
       "        <textPath xlink:href=\"#arrow-69744a55764b436faf86774f26b683cf-0-10\" class=\"displacy-label\" startOffset=\"50%\" side=\"left\" fill=\"currentColor\" text-anchor=\"middle\">obl</textPath>\n",
       "    </text>\n",
       "    <path class=\"displacy-arrowhead\" d=\"M1140.0,204.0 L1148.0,192.0 1132.0,192.0\" fill=\"currentColor\"/>\n",
       "</g>\n",
       "</svg></span>"
      ],
      "text/plain": [
       "<IPython.core.display.HTML object>"
      ]
     },
     "metadata": {},
     "output_type": "display_data"
    }
   ],
   "source": [
    "#represetnacion grafica del analisis del texto por frases\n",
    "\n",
    "from spacy import displacy\n",
    "\n",
    "txt5 = pln('yo tengo un hermano que se llama Gabriel y trabaja en Google')\n",
    "\n",
    "displacy.render(txt5, style='dep', options={'distance':100})"
   ]
  },
  {
   "cell_type": "code",
   "execution_count": 9,
   "id": "c7d5ec18",
   "metadata": {},
   "outputs": [
    {
     "data": {
      "text/html": [
       "<span class=\"tex2jax_ignore\"><div class=\"entities\" style=\"line-height: 2.5; direction: ltr\">yo tengo un hermano que se llama \n",
       "<mark class=\"entity\" style=\"background: #ddd; padding: 0.45em 0.6em; margin: 0 0.25em; line-height: 1; border-radius: 0.35em;\">\n",
       "    Gabriel\n",
       "    <span style=\"font-size: 0.8em; font-weight: bold; line-height: 1; border-radius: 0.35em; vertical-align: middle; margin-left: 0.5rem\">PER</span>\n",
       "</mark>\n",
       " y trabaja en \n",
       "<mark class=\"entity\" style=\"background: #7aecec; padding: 0.45em 0.6em; margin: 0 0.25em; line-height: 1; border-radius: 0.35em;\">\n",
       "    Google\n",
       "    <span style=\"font-size: 0.8em; font-weight: bold; line-height: 1; border-radius: 0.35em; vertical-align: middle; margin-left: 0.5rem\">ORG</span>\n",
       "</mark>\n",
       "</div></span>"
      ],
      "text/plain": [
       "<IPython.core.display.HTML object>"
      ]
     },
     "metadata": {},
     "output_type": "display_data"
    }
   ],
   "source": [
    "#para identidificar \"entidades\"\n",
    "\n",
    "displacy.render(txt5, style='ent')"
   ]
  },
  {
   "cell_type": "code",
   "execution_count": 10,
   "id": "dab70507",
   "metadata": {},
   "outputs": [],
   "source": [
    "#para crear un servidor, en momento que le doy STOP ya no es accesible\n",
    "\n",
    "#displacy.serve(txt5, style='dep')\n"
   ]
  },
  {
   "cell_type": "code",
   "execution_count": 12,
   "id": "1cb79fc4",
   "metadata": {},
   "outputs": [
    {
     "name": "stdout",
     "output_type": "stream",
     "text": [
      "{'aquéllas', 'aquella', 'tarde', 'hasta', 'así', 'ciertos', 'vaya', 'parece', 'diferente', 'pueden', 'pueda', 'en', 'tres', 'cuenta', 'contigo', 'cuánta', 'dado', 'cerca', 'hemos', 'hizo', 'tuyo', 'estos', 'estoy', 'verdadero', 'deben', 'ningún', 'ya', 'yo', 'propia', 'todas', 'breve', 'igual', 'temprano', 'arribaabajo', 'sería', 'grandes', 'vamos', 'ultimo', 'quiere', 'queremos', 'antano', 'nuevas', 'como', 'intentan', 'será', 'voy', 'delante', 'podría', 'buenas', 'nos', 'pocas', 'detrás', 'muchas', 'toda', 'te', 'asi', 'alguno', 'cuantas', 'cuatro', 'ir', 'entre', 'explicó', 'cuando', 'hace', 'da', 'ése', 'intenta', 'otra', 'dijeron', 'sera', 'cuál', 'mencionó', 'solas', 'quedó', 'dicen', 'dia', 'ex', 'ciertas', 'ocho', 'eso', 'mismos', 'intentamos', 'lugar', 'podrán', 'al', 'sus', 'lo', 'alguna', 'algunas', 'llegó', 'este', 'uso', 'un', 'manifestó', 'aunque', 'de', 'mediante', 'del', 'existen', 'hecho', 'junto', 'buenos', 'quién', 'creo', 'lado', 'paìs', 'cuándo', 'demasiado', 'era', 'estas', 'mias', 'enseguida', 'luego', 'apenas', 'fueron', 'esos', 'puedo', 'hacer', 'puede', 'último', 'pasada', 'próximos', 'hacen', 'poco', 'primero', 'mis', 'adrede', 'posible', 'quiza', 'fuimos', 'sabemos', 'usamos', 'están', 'medio', 'buena', 'son', 'su', 'dentro', 'sido', 'estado', 'estaba', 'para', 'ninguna', 'añadió', 'trabaja', 'poder', 'intento', 'les', 'vuestro', 'gran', 'tuya', 'bueno', 'solamente', 'segun', 'qeu', 'nuestro', 'quien', 'siendo', 'cualquier', 'vuestros', 'debido', 'nada', 'mas', 'dan', 'mí', 'tenido', 'cuáles', 'alrededor', 'dieron', 'estamos', 'agregó', 'mio', 'éstos', 'cual', 'tu', 'varios', 'ahí', 'sabe', 'repente', 'señaló', 'propias', 'verdadera', 'tendrán', 'hicieron', 'final', 'casi', 'haciendo', 'quiénes', 'segundo', 'antes', 'usan', 'detras', 'soy', 'algún', 'nuestras', 'través', 'hablan', 'trabajamos', 'otros', 'después', 'estar', 'ser', 'la', 'no', 'podemos', 'sois', 'ha', 'consiguen', 'tal', 'tuyas', 'aqui', 'algo', 'eran', 'solos', 'trabajar', 'aun', 'enfrente', 'intentais', 'una', 'también', 'claro', 'tú', 'mientras', 'tuyos', 'cuanto', 'horas', 'consideró', 'las', 'estais', 'había', 'éstas', 'estan', 'verdad', 'mi', 'serán', 'emplean', 'momento', 'llevar', 'mías', 'trabajo', 'primera', 'actualmente', 'ahi', 'pais', 'mucha', 'ti', 'entonces', 'si', 'anterior', 'que', 'supuesto', 'nuevo', 'dias', 'tiempo', 'partir', 'solo', 'habrá', 'fuera', 'saber', 'él', 'todavía', 'tengo', 'aquellos', 'tenemos', 'sean', 'cuales', 'tampoco', 'despacio', 'menos', 'sobre', 'vuestras', 'decir', 'modo', 'nueva', 'usted', 'ustedes', 'todo', 'unas', 'encuentra', 'esta', 'sin', 'quienes', 'tercera', 'siempre', 'suyo', 'cierto', 'comentó', 'respecto', 'cuántas', 'siete', 'ella', 'embargo', 'muy', 'cuantos', 'aseguró', 'hacia', 'cierta', 'sabeis', 'me', 'ni', 'pasado', 'sino', 'haber', 'aproximadamente', 'se', 'podrias', 'nuestros', 'afirmó', 'soyos', 'por', 'aquéllos', 'los', 'veces', 'cosas', 'mía', 'nadie', 'sí', 'tenía', 'habían', 'todos', 'vez', 'le', 'ahora', 'mia', 'próximo', 'haceis', 'ésta', 'habla', 'última', 'poca', 'nosotros', 'tuvo', 'parte', 'tienen', 'hacemos', 'vosotros', 'empleo', 'principalmente', 'saben', 'mejor', 'realizar', 'fin', 'porque', 'mal', 'ampleamos', 'aquél', 'tanto', 'tras', 'aún', 'nuestra', 'eramos', 'quizá', 'trabajais', 'emplear', 'usas', 'dijo', 'menudo', 'diferentes', 'realizó', 'trabajas', 'ademas', 'gueno', 'podriamos', 'lejos', 'proximo', 'existe', 'ante', 'han', 'haya', 'arriba', 'total', 'usa', 'ambos', 'aquello', 'he', 'conseguir', 'esas', 'cuántos', 'eres', 'tambien', 'uno', 'últimas', 'ésos', 'podriais', 'deprisa', 'pesar', 'realizado', 'muchos', 'debe', 'pronto', 'sea', 'expresó', 'van', 'suya', 'quizás', 'informo', 'hacerlo', 'hay', 'peor', 'usais', 'sabes', 'cada', 'podrian', 'encima', 'nuevos', 'unos', 'largo', 'día', 'ningunos', 'varias', 'ninguno', 'fui', 'mayor', 'bajo', 'acuerdo', 'informó', 'cuánto', 'eras', 'buen', 'incluso', 'seis', 'podria', 'tiene', 'considera', 'aquélla', 'todavia', 'algunos', 'misma', 'hago', 'estaban', 'conocer', 'sólo', 'allí', 'desde', 'míos', 'segunda', 'durante', 'qué', 'adelante', 'intentas', 'hubo', 'está', 'contra', 'el', 'otro', 'alli', 'más', 'manera', 'excepto', 'despues', 'tus', 'conseguimos', 'estuvo', 'primeros', 'ellas', 'propio', 'dos', 'antaño', 'últimos', 'días', 'estará', 'fue', 'consigue', 'sigue', 'estados', 'ese', 'vosotras', 'ellos', 'nunca', 'vuestra', 'general', 'ayer', 'mismo', 'pero', 'podrá', 'pocos', 'intentar', 'usar', 'quizas', 'poner', 'dar', 'dejó', 'dicho', 'haces', 'tenga', 'mismas', 'otras', 'ello', 'bien', 'podrían', 'trata', 'empleais', 'habia', 'cuanta', 'mío', 'esa', 'con', 'conmigo', 'consigo', 'ejemplo', 'mucho', 'cinco', 'tan', 'somos', 'dice', 'atras', 'sé', 'trabajan', 'empleas', 'donde', 'ésas', 'vais', 'nosotras', 'tendrá', 'propios', 'podeis', 'ver', 'hoy', 'además', 'tener', 'aquellas', 'dónde', 'os', 'consigues', 'raras', 'mios', 'pudo', 'bastante', 'salvo', 'lleva', 'es', 'aquel', 'indicó', 'dio', 'demás', 'esto', 'según', 'primer', 'suyas', 'sola', 'debajo', 'siguiente', 'pues', 'cómo', 'valor', 'teneis', 'va', 'ésa', 'aquí', 'éste', 'ningunas'}\n"
     ]
    }
   ],
   "source": [
    "#stop words = pln trae un grupo de palabra NO IMPORTANTES\n",
    "\n",
    "print(pln.Defaults.stop_words)"
   ]
  },
  {
   "cell_type": "code",
   "execution_count": 13,
   "id": "63b0e2ea",
   "metadata": {},
   "outputs": [
    {
     "data": {
      "text/plain": [
       "551"
      ]
     },
     "execution_count": 13,
     "metadata": {},
     "output_type": "execute_result"
    }
   ],
   "source": [
    "len(pln.Defaults.stop_words)"
   ]
  },
  {
   "cell_type": "code",
   "execution_count": 15,
   "id": "b76fe64d",
   "metadata": {},
   "outputs": [
    {
     "data": {
      "text/plain": [
       "True"
      ]
     },
     "execution_count": 15,
     "metadata": {},
     "output_type": "execute_result"
    }
   ],
   "source": [
    "#para saber si esta o no\n",
    "\n",
    "pln.vocab['qeu'].is_stop"
   ]
  },
  {
   "cell_type": "code",
   "execution_count": 16,
   "id": "0acb708b",
   "metadata": {},
   "outputs": [
    {
     "data": {
      "text/plain": [
       "False"
      ]
     },
     "execution_count": 16,
     "metadata": {},
     "output_type": "execute_result"
    }
   ],
   "source": [
    "pln.vocab['auto'].is_stop"
   ]
  },
  {
   "cell_type": "code",
   "execution_count": 17,
   "id": "1b7f0e7b",
   "metadata": {},
   "outputs": [
    {
     "data": {
      "text/plain": [
       "False"
      ]
     },
     "execution_count": 17,
     "metadata": {},
     "output_type": "execute_result"
    }
   ],
   "source": [
    "#para añadir, por ejemplo abrevituaras en mensajes\n",
    "\n",
    "pln.vocab['tb'].is_stop"
   ]
  },
  {
   "cell_type": "code",
   "execution_count": 18,
   "id": "5fbae186",
   "metadata": {},
   "outputs": [],
   "source": [
    "pln.Defaults.stop_words.add('tb')"
   ]
  },
  {
   "cell_type": "code",
   "execution_count": 20,
   "id": "d14e736e",
   "metadata": {},
   "outputs": [],
   "source": [
    "pln.vocab['tb'].is_stop = True #Esto es IMPORTANTE para guardar los cambios en las stop_words!!!"
   ]
  },
  {
   "cell_type": "code",
   "execution_count": 21,
   "id": "10bd0510",
   "metadata": {},
   "outputs": [
    {
     "data": {
      "text/plain": [
       "True"
      ]
     },
     "execution_count": 21,
     "metadata": {},
     "output_type": "execute_result"
    }
   ],
   "source": [
    "pln.vocab['tb'].is_stop"
   ]
  },
  {
   "cell_type": "code",
   "execution_count": 22,
   "id": "ba22f98f",
   "metadata": {},
   "outputs": [
    {
     "data": {
      "text/plain": [
       "552"
      ]
     },
     "execution_count": 22,
     "metadata": {},
     "output_type": "execute_result"
    }
   ],
   "source": [
    "len(pln.Defaults.stop_words)"
   ]
  },
  {
   "cell_type": "code",
   "execution_count": 23,
   "id": "3d5c1466",
   "metadata": {},
   "outputs": [
    {
     "data": {
      "text/plain": [
       "True"
      ]
     },
     "execution_count": 23,
     "metadata": {},
     "output_type": "execute_result"
    }
   ],
   "source": [
    "#Para eliminar una que me parece importante\n",
    "\n",
    "pln.vocab['tb'].is_stop"
   ]
  },
  {
   "cell_type": "code",
   "execution_count": 24,
   "id": "aeede27f",
   "metadata": {},
   "outputs": [],
   "source": [
    "pln.Defaults.stop_words.remove('tb')"
   ]
  },
  {
   "cell_type": "code",
   "execution_count": 25,
   "id": "77f7ed28",
   "metadata": {},
   "outputs": [],
   "source": [
    "pln.vocab['tb'].is_stop = False"
   ]
  },
  {
   "cell_type": "code",
   "execution_count": 26,
   "id": "cac86e26",
   "metadata": {},
   "outputs": [
    {
     "data": {
      "text/plain": [
       "551"
      ]
     },
     "execution_count": 26,
     "metadata": {},
     "output_type": "execute_result"
    }
   ],
   "source": [
    "len(pln.Defaults.stop_words)"
   ]
  },
  {
   "cell_type": "code",
   "execution_count": 27,
   "id": "a631e920",
   "metadata": {},
   "outputs": [],
   "source": [
    "#Emparejamiento o MATCHER\n",
    "\n",
    "from spacy.matcher import Matcher"
   ]
  },
  {
   "cell_type": "code",
   "execution_count": 28,
   "id": "e5671882",
   "metadata": {},
   "outputs": [],
   "source": [
    "matcher = Matcher(pln.vocab)"
   ]
  },
  {
   "cell_type": "code",
   "execution_count": 53,
   "id": "b4c63d46",
   "metadata": {},
   "outputs": [],
   "source": [
    "patron = [{'LOWER':'coche'}] #esto es lo que voy a buscar"
   ]
  },
  {
   "cell_type": "code",
   "execution_count": 61,
   "id": "8f9f514b",
   "metadata": {},
   "outputs": [],
   "source": [
    "matcher.add('coche', [patron]) "
   ]
  },
  {
   "cell_type": "code",
   "execution_count": 56,
   "id": "24b479cb",
   "metadata": {},
   "outputs": [],
   "source": [
    "#Emparejamiento con los datos de un fichero\n",
    "\n",
    "matcher2 = Matcher(pln.vocab)\n",
    "\n"
   ]
  },
  {
   "cell_type": "code",
   "execution_count": 58,
   "id": "17f27286",
   "metadata": {},
   "outputs": [],
   "source": [
    "patron1 = [{'LOWER':'internet'}]\n",
    "patron2 = [{'LOWER':'negocio'}]"
   ]
  },
  {
   "cell_type": "code",
   "execution_count": 60,
   "id": "55c5a2f9",
   "metadata": {},
   "outputs": [],
   "source": [
    "matcher.add('busqueda1', [patron1, patron2])"
   ]
  },
  {
   "cell_type": "code",
   "execution_count": 63,
   "id": "ffed8e1e",
   "metadata": {},
   "outputs": [],
   "source": [
    "with open('frases.txt') as fichero:\n",
    "    datos_fichero = fichero.read()\n",
    "    doc = pln(datos_fichero)"
   ]
  },
  {
   "cell_type": "code",
   "execution_count": 64,
   "id": "edd9ea04",
   "metadata": {},
   "outputs": [
    {
     "data": {
      "text/plain": [
       "spacy.tokens.doc.Doc"
      ]
     },
     "execution_count": 64,
     "metadata": {},
     "output_type": "execute_result"
    }
   ],
   "source": [
    "type(doc)"
   ]
  },
  {
   "cell_type": "code",
   "execution_count": 65,
   "id": "aa266177",
   "metadata": {},
   "outputs": [
    {
     "data": {
      "text/plain": [
       "Cualquier tecnologÃ­a suficientemente avanzada es equivalente a la magia.\n",
       "Que algo no haya salido como hayas querido no significa que sea inÃºtil.\n",
       "Si tu negocio no estÃ¡ en Internet, tu negocio no existe.\n",
       "La tecnologÃ­a es una palabra que describe algo que no funciona todavÃ­a.\n",
       "El gran mito de nuestro tiempo es que la tecnologÃ­a es comunicaciÃ³n.\n",
       "El espÃ­ritu humano debe prevalecer sobre la tecnologÃ­a\n",
       "El coche elÃ©ctrico es el futuro y permitirÃ¡ reducir la contaminaciÃ³n de las ciudades.\n",
       "El verdadero peligro no es que los ordenadores empiecen a pensar como los hombres, sino que los hombres empiecen a pensar como los ordenadores.\n",
       "La tecnologÃ­a hizo posible las grandes poblaciones; ahora las grandes poblaciones hacen que la tecnologÃ­a sea indispensable.\n",
       "Internet es positivo porque nos une, nos conecta. Incluso a las personas mayores. El estar conectado nos prolonga la vida y no solamente aÃ±ade aÃ±os a la vida, sino vida a los aÃ±os.\n",
       "Internet es mucho mÃ¡s que una tecnologÃ­a. Es un medio de comunicaciÃ³n, de interacciÃ³n y de organizaciÃ³n social."
      ]
     },
     "execution_count": 65,
     "metadata": {},
     "output_type": "execute_result"
    }
   ],
   "source": [
    "doc"
   ]
  },
  {
   "cell_type": "code",
   "execution_count": 68,
   "id": "b9a7cc4a",
   "metadata": {},
   "outputs": [
    {
     "data": {
      "text/plain": [
       "[(12845215180481835538, 28, 29),\n",
       " (12845215180481835538, 33, 34),\n",
       " (12845215180481835538, 36, 37),\n",
       " (6709559885411883416, 79, 80),\n",
       " (12845215180481835538, 144, 145),\n",
       " (12845215180481835538, 183, 184)]"
      ]
     },
     "execution_count": 68,
     "metadata": {},
     "output_type": "execute_result"
    }
   ],
   "source": [
    "coincidencias = matcher(doc)\n",
    "\n",
    "coincidencias"
   ]
  },
  {
   "cell_type": "code",
   "execution_count": 71,
   "id": "a9d37305",
   "metadata": {},
   "outputs": [
    {
     "name": "stdout",
     "output_type": "stream",
     "text": [
      "12845215180481835538 busqueda1 28 29 negocio no estÃ\n",
      "12845215180481835538 busqueda1 33 34 Internet, tu\n",
      "12845215180481835538 busqueda1 36 37 negocio no existe\n",
      "6709559885411883416 coche 79 80 coche elÃ©\n",
      "12845215180481835538 busqueda1 144 145 Internet es positivo\n",
      "12845215180481835538 busqueda1 183 184 Internet es mucho\n"
     ]
    }
   ],
   "source": [
    "for id, inicio, fin in coincidencias:\n",
    "    id_str = pln.vocab.strings[id]\n",
    "    palabra = doc[inicio:fin+2]\n",
    "    print(id, id_str, inicio, fin, palabra.text)"
   ]
  },
  {
   "cell_type": "code",
   "execution_count": null,
   "id": "e83fe0ff",
   "metadata": {},
   "outputs": [],
   "source": []
  }
 ],
 "metadata": {
  "kernelspec": {
   "display_name": "Python 3 (ipykernel)",
   "language": "python",
   "name": "python3"
  },
  "language_info": {
   "codemirror_mode": {
    "name": "ipython",
    "version": 3
   },
   "file_extension": ".py",
   "mimetype": "text/x-python",
   "name": "python",
   "nbconvert_exporter": "python",
   "pygments_lexer": "ipython3",
   "version": "3.9.7"
  }
 },
 "nbformat": 4,
 "nbformat_minor": 5
}
